{
 "cells": [
  {
   "cell_type": "markdown",
   "metadata": {},
   "source": [
    "## Udacity Data Analyst Nanodegree Project 1 \"Test a Perceptual Phenomenon\""
   ]
  },
  {
   "cell_type": "markdown",
   "metadata": {},
   "source": [
    "## Background Information\n",
    "\n",
    "In a Stroop task, participants are presented with a list of words, with each word displayed in a color of ink. The participant’s task is to say out loud the color of the ink in which the word is printed. The task has two conditions: a congruent words condition, and an incongruent words condition. In the congruent words condition, the words being displayed are color words whose names match the colors in which they are printed: for example RED, BLUE. In the incongruent words condition, the words displayed are color words whose names do not match the colors in which they are printed: for example PURPLE, ORANGE. In each case, we measure the time it takes to name the ink colors in equally-sized lists. Each participant will go through and record a time from each condition."
   ]
  },
  {
   "cell_type": "markdown",
   "metadata": {},
   "source": [
    "1. What is our dependent variable?  What is our independent variable?\n",
    "  - Independent Variable: Condition (congruent or incongruent words)\n",
    "  - Dependent Variable: Time required to name the ink colors, which we will term \"reaction time\"\n",
    "  \n",
    "2. What is an appropriate set of hypothesis for this task? What kind of statistical test do you expect to perform?\n",
    "\n",
    "The appropriate set of hypothesis for this task consists of the null (H0) and alternative hypothesis (HA).  Specifically, I set the null hypothesis to state that there is no difference in the response, as represented by mean reaction time, between populations performing the task under congruent and incongruent conditions.  The alternative hypothesis is that the population performing the task under the incongruent condition results in a slower response, or increased mean reaction time, than the that of the congruent condition.  This is expressed mathematically below. \n",
    "\n",
    "  - $\\mu_c$ = mean reaction time for the congruent test condition\n",
    "  - $\\mu_i$ = mean reaction time for the incongruent test condition\n",
    "\n",
    "  - **H0**: $\\mu_c - \\mu_i$ = 0 (condition does not affect reaction time)\n",
    "  - **Ha** = $\\mu_c - \\mu_i$ < 0 (incongruent condition has an increased reaction time relative to the congruent condition)\n",
    "  \n",
    "Rather than having data from an entire population or populations, we have data from practically sized samples, 24 individuals performing the task under each condition.  The purpose of performing the hypothesis test is to determine whether there is enough evidence in the sample(s) to make inferences about a condition for the entire population.  In other words we are trying to determine whether the sample means are different because the two populations/population means are actually different or if the observed differences are due to chance.  To accomplish this we will calculate a test statistic and determine the probability (p-value) of observing a result at least as extreme as this, purely by chance (p-value <= alpha).\n",
    "\n",
    "This brings us to our next decision. What statistical test should we use?  What test statistic should be calcuating? Typically appropriate tests are the z test and the t test.  Z tests are best used when we either know the $\\sigma$ of the population(s) under study or with sample sizes of at least 30 subjects.  For smaller sample sizes and an unknown $\\sigma$ a t test is more appropriate.  \n",
    "  \n",
    " For this study, each subject is exposed to the task under both conditions and the alternative hypothesis states that subjects will have an increased reaction time under incongruent condition relative to the congruent condition.  Considering this, it is appropriate to use a one-sided, paired (dependent) t test.  The paired t test carries the following assumptions:\n",
    " \n",
    " - The dependent variable is measured on a continuous scale (assumption met)\n",
    " - The independent variable should consist of two categorical related groups/mathced pairs (assumption met)\n",
    " - There should be no significant outliers in the differences between the two groups (assumption met)\n",
    " - The distribution of the differences in the dependent variable between the two groups is approximately normal (indeterminate but the t test is robust to violations of normality)"
   ]
  },
  {
   "cell_type": "markdown",
   "metadata": {},
   "source": [
    "Report some descriptive statistics regarding this dataset. Include at least one measure of central tendency and at least one measure of variability."
   ]
  },
  {
   "cell_type": "code",
   "execution_count": 19,
   "metadata": {
    "collapsed": false
   },
   "outputs": [
    {
     "name": "stdout",
     "output_type": "stream",
     "text": [
      "Populating the interactive namespace from numpy and matplotlib\n"
     ]
    }
   ],
   "source": [
    "import pandas as pd\n",
    "%pylab inline\n",
    "from scipy import stats, integrate\n",
    "import matplotlib.pyplot as plt\n",
    "import numpy as np\n",
    "import seaborn as sns\n",
    "sns.set(color_codes=True)\n",
    "import scipy as sp\n",
    "from scipy import stats"
   ]
  },
  {
   "cell_type": "code",
   "execution_count": 2,
   "metadata": {
    "collapsed": false
   },
   "outputs": [
    {
     "data": {
      "text/html": [
       "<div>\n",
       "<table border=\"1\" class=\"dataframe\">\n",
       "  <thead>\n",
       "    <tr style=\"text-align: right;\">\n",
       "      <th></th>\n",
       "      <th>Congruent</th>\n",
       "      <th>Incongruent</th>\n",
       "    </tr>\n",
       "  </thead>\n",
       "  <tbody>\n",
       "    <tr>\n",
       "      <th>0</th>\n",
       "      <td>12.079</td>\n",
       "      <td>19.278</td>\n",
       "    </tr>\n",
       "    <tr>\n",
       "      <th>1</th>\n",
       "      <td>16.791</td>\n",
       "      <td>18.741</td>\n",
       "    </tr>\n",
       "    <tr>\n",
       "      <th>2</th>\n",
       "      <td>9.564</td>\n",
       "      <td>21.214</td>\n",
       "    </tr>\n",
       "    <tr>\n",
       "      <th>3</th>\n",
       "      <td>8.630</td>\n",
       "      <td>15.687</td>\n",
       "    </tr>\n",
       "    <tr>\n",
       "      <th>4</th>\n",
       "      <td>14.669</td>\n",
       "      <td>22.803</td>\n",
       "    </tr>\n",
       "  </tbody>\n",
       "</table>\n",
       "</div>"
      ],
      "text/plain": [
       "   Congruent  Incongruent\n",
       "0     12.079       19.278\n",
       "1     16.791       18.741\n",
       "2      9.564       21.214\n",
       "3      8.630       15.687\n",
       "4     14.669       22.803"
      ]
     },
     "execution_count": 2,
     "metadata": {},
     "output_type": "execute_result"
    }
   ],
   "source": [
    "df = pd.read_csv(r'stroopdata.csv')\n",
    "df.head()"
   ]
  },
  {
   "cell_type": "code",
   "execution_count": 3,
   "metadata": {
    "collapsed": false
   },
   "outputs": [
    {
     "data": {
      "text/html": [
       "<div>\n",
       "<table border=\"1\" class=\"dataframe\">\n",
       "  <thead>\n",
       "    <tr style=\"text-align: right;\">\n",
       "      <th></th>\n",
       "      <th>Congruent</th>\n",
       "      <th>Incongruent</th>\n",
       "      <th>difference</th>\n",
       "    </tr>\n",
       "  </thead>\n",
       "  <tbody>\n",
       "    <tr>\n",
       "      <th>0</th>\n",
       "      <td>12.079</td>\n",
       "      <td>19.278</td>\n",
       "      <td>-7.199</td>\n",
       "    </tr>\n",
       "    <tr>\n",
       "      <th>1</th>\n",
       "      <td>16.791</td>\n",
       "      <td>18.741</td>\n",
       "      <td>-1.950</td>\n",
       "    </tr>\n",
       "    <tr>\n",
       "      <th>2</th>\n",
       "      <td>9.564</td>\n",
       "      <td>21.214</td>\n",
       "      <td>-11.650</td>\n",
       "    </tr>\n",
       "    <tr>\n",
       "      <th>3</th>\n",
       "      <td>8.630</td>\n",
       "      <td>15.687</td>\n",
       "      <td>-7.057</td>\n",
       "    </tr>\n",
       "    <tr>\n",
       "      <th>4</th>\n",
       "      <td>14.669</td>\n",
       "      <td>22.803</td>\n",
       "      <td>-8.134</td>\n",
       "    </tr>\n",
       "  </tbody>\n",
       "</table>\n",
       "</div>"
      ],
      "text/plain": [
       "   Congruent  Incongruent  difference\n",
       "0     12.079       19.278      -7.199\n",
       "1     16.791       18.741      -1.950\n",
       "2      9.564       21.214     -11.650\n",
       "3      8.630       15.687      -7.057\n",
       "4     14.669       22.803      -8.134"
      ]
     },
     "execution_count": 3,
     "metadata": {},
     "output_type": "execute_result"
    }
   ],
   "source": [
    "df['difference'] = df.Congruent - df.Incongruent \n",
    "df.head()"
   ]
  },
  {
   "cell_type": "code",
   "execution_count": 4,
   "metadata": {
    "collapsed": false
   },
   "outputs": [
    {
     "data": {
      "text/html": [
       "<div>\n",
       "<table border=\"1\" class=\"dataframe\">\n",
       "  <thead>\n",
       "    <tr style=\"text-align: right;\">\n",
       "      <th></th>\n",
       "      <th>Congruent</th>\n",
       "      <th>Incongruent</th>\n",
       "      <th>difference</th>\n",
       "    </tr>\n",
       "  </thead>\n",
       "  <tbody>\n",
       "    <tr>\n",
       "      <th>count</th>\n",
       "      <td>24.000000</td>\n",
       "      <td>24.000000</td>\n",
       "      <td>24.000000</td>\n",
       "    </tr>\n",
       "    <tr>\n",
       "      <th>mean</th>\n",
       "      <td>14.051125</td>\n",
       "      <td>22.015917</td>\n",
       "      <td>-7.964792</td>\n",
       "    </tr>\n",
       "    <tr>\n",
       "      <th>std</th>\n",
       "      <td>3.559358</td>\n",
       "      <td>4.797057</td>\n",
       "      <td>4.864827</td>\n",
       "    </tr>\n",
       "    <tr>\n",
       "      <th>min</th>\n",
       "      <td>8.630000</td>\n",
       "      <td>15.687000</td>\n",
       "      <td>-21.919000</td>\n",
       "    </tr>\n",
       "    <tr>\n",
       "      <th>25%</th>\n",
       "      <td>11.895250</td>\n",
       "      <td>18.716750</td>\n",
       "      <td>-10.258500</td>\n",
       "    </tr>\n",
       "    <tr>\n",
       "      <th>50%</th>\n",
       "      <td>14.356500</td>\n",
       "      <td>21.017500</td>\n",
       "      <td>-7.666500</td>\n",
       "    </tr>\n",
       "    <tr>\n",
       "      <th>75%</th>\n",
       "      <td>16.200750</td>\n",
       "      <td>24.051500</td>\n",
       "      <td>-3.645500</td>\n",
       "    </tr>\n",
       "    <tr>\n",
       "      <th>max</th>\n",
       "      <td>22.328000</td>\n",
       "      <td>35.255000</td>\n",
       "      <td>-1.950000</td>\n",
       "    </tr>\n",
       "  </tbody>\n",
       "</table>\n",
       "</div>"
      ],
      "text/plain": [
       "       Congruent  Incongruent  difference\n",
       "count  24.000000    24.000000   24.000000\n",
       "mean   14.051125    22.015917   -7.964792\n",
       "std     3.559358     4.797057    4.864827\n",
       "min     8.630000    15.687000  -21.919000\n",
       "25%    11.895250    18.716750  -10.258500\n",
       "50%    14.356500    21.017500   -7.666500\n",
       "75%    16.200750    24.051500   -3.645500\n",
       "max    22.328000    35.255000   -1.950000"
      ]
     },
     "execution_count": 4,
     "metadata": {},
     "output_type": "execute_result"
    }
   ],
   "source": [
    "desc = df.describe()\n",
    "desc"
   ]
  },
  {
   "cell_type": "code",
   "execution_count": 5,
   "metadata": {
    "collapsed": false
   },
   "outputs": [
    {
     "data": {
      "text/plain": [
       "14.3565"
      ]
     },
     "execution_count": 5,
     "metadata": {},
     "output_type": "execute_result"
    }
   ],
   "source": [
    "df.Congruent.median()"
   ]
  },
  {
   "cell_type": "code",
   "execution_count": 6,
   "metadata": {
    "collapsed": false
   },
   "outputs": [
    {
     "data": {
      "text/plain": [
       "21.0175"
      ]
     },
     "execution_count": 6,
     "metadata": {},
     "output_type": "execute_result"
    }
   ],
   "source": [
    "df.Incongruent.median()"
   ]
  },
  {
   "cell_type": "code",
   "execution_count": 7,
   "metadata": {
    "collapsed": false,
    "scrolled": true
   },
   "outputs": [
    {
     "data": {
      "text/plain": [
       "-7.666499999999999"
      ]
     },
     "execution_count": 7,
     "metadata": {},
     "output_type": "execute_result"
    }
   ],
   "source": [
    "df.difference.median()"
   ]
  },
  {
   "cell_type": "code",
   "execution_count": 8,
   "metadata": {
    "collapsed": true
   },
   "outputs": [],
   "source": [
    "desc_diff = desc.difference"
   ]
  },
  {
   "cell_type": "code",
   "execution_count": 9,
   "metadata": {
    "collapsed": false
   },
   "outputs": [],
   "source": [
    "# arrays of pertinent stats from the descriptive statistics DataFrame\n",
    "\n",
    "n = len(df) # 24\n",
    "means = desc_diff.loc['mean']\n",
    "stdevs = desc_diff.loc['std']\n",
    "SEs = stdevs/sqrt(n)\n",
    "t_stats = means/SEs\n",
    "p_stats = sp.stats.t.sf(abs(t_stats), 23) # n -1 = 23\n",
    "MEs = 1.714 * SEs # t crtical 95% for 23 df = 1.697\n",
    "CIs_lower = means - MEs\n",
    "CIs_upper = means + MEs"
   ]
  },
  {
   "cell_type": "code",
   "execution_count": 10,
   "metadata": {
    "collapsed": false
   },
   "outputs": [
    {
     "name": "stdout",
     "output_type": "stream",
     "text": [
      "t_stat: -8.02070694411 \n",
      " p_value: 2.05150029286e-08 \n",
      " CI_lower: -9.66684274668 \n",
      " CI_upper: -6.26274058666\n"
     ]
    }
   ],
   "source": [
    "print('t_stat: {} \\n p_value: {} \\n CI_lower: {} \\n CI_upper: {}'.format(t_stats, p_stats, CIs_lower, CIs_upper))"
   ]
  },
  {
   "cell_type": "raw",
   "metadata": {},
   "source": [
    "4. Provide one or two visualizations that show the distribution of the sample data. Write one or two sentences noting what you observe about the plot or plots."
   ]
  },
  {
   "cell_type": "code",
   "execution_count": 11,
   "metadata": {
    "collapsed": false
   },
   "outputs": [
    {
     "data": {
      "text/html": [
       "<div>\n",
       "<table border=\"1\" class=\"dataframe\">\n",
       "  <thead>\n",
       "    <tr style=\"text-align: right;\">\n",
       "      <th></th>\n",
       "      <th>variable</th>\n",
       "      <th>value</th>\n",
       "    </tr>\n",
       "  </thead>\n",
       "  <tbody>\n",
       "    <tr>\n",
       "      <th>0</th>\n",
       "      <td>Congruent</td>\n",
       "      <td>12.079</td>\n",
       "    </tr>\n",
       "    <tr>\n",
       "      <th>1</th>\n",
       "      <td>Congruent</td>\n",
       "      <td>16.791</td>\n",
       "    </tr>\n",
       "    <tr>\n",
       "      <th>2</th>\n",
       "      <td>Congruent</td>\n",
       "      <td>9.564</td>\n",
       "    </tr>\n",
       "    <tr>\n",
       "      <th>3</th>\n",
       "      <td>Congruent</td>\n",
       "      <td>8.630</td>\n",
       "    </tr>\n",
       "    <tr>\n",
       "      <th>4</th>\n",
       "      <td>Congruent</td>\n",
       "      <td>14.669</td>\n",
       "    </tr>\n",
       "  </tbody>\n",
       "</table>\n",
       "</div>"
      ],
      "text/plain": [
       "    variable   value\n",
       "0  Congruent  12.079\n",
       "1  Congruent  16.791\n",
       "2  Congruent   9.564\n",
       "3  Congruent   8.630\n",
       "4  Congruent  14.669"
      ]
     },
     "execution_count": 11,
     "metadata": {},
     "output_type": "execute_result"
    }
   ],
   "source": [
    "melted = pd.melt(df.drop(['difference'], axis = 1))\n",
    "melted.head()"
   ]
  },
  {
   "cell_type": "code",
   "execution_count": 12,
   "metadata": {
    "collapsed": false
   },
   "outputs": [],
   "source": [
    "sns.set(rc={\"figure.figsize\": (10, 8)}, color_codes= True)"
   ]
  },
  {
   "cell_type": "code",
   "execution_count": 13,
   "metadata": {
    "collapsed": true
   },
   "outputs": [],
   "source": [
    "def vis_dist(type_vis):\n",
    "    \n",
    "    \n",
    "    '''\n",
    "    Produce any of three visualizations of the stroop effect data distribution.\n",
    "    type_vis == 'histogram', returns a frequency distribution\n",
    "    type_vis == 'histogram/pdf', returns a frequency distribution with pdf overlay\n",
    "    type_vis == 'box', returns a box plot\n",
    "    type_vis == 'violin', returns a violin plot\n",
    "    This function uses Seaborn to produce the plots, so the Seaborn library must be installed.\n",
    "    '''\n",
    "    \n",
    "    if type_vis == 'histogram':\n",
    "        sns.distplot(df.Congruent, rug = True, kde = False, label= 'Congruent')\n",
    "        sns.distplot(df.Incongruent, rug = True, kde= False, label = \"Incongruent\", axlabel= None)\n",
    "        plt.legend(prop={'size':16})\n",
    "        \n",
    "    elif type_vis == 'histogram/pdf':\n",
    "        sns.distplot(df.Congruent, rug = True, label= 'Congruent')\n",
    "        sns.distplot(df.Incongruent, rug = True, label = \"Incongruent\", axlabel= None)\n",
    "        plt.legend(prop={'size':16})\n",
    "    \n",
    "    elif type_vis == 'box':\n",
    "        sns.boxplot(x = 'value', y = 'variable', data = melted, hue = 'variable')\n",
    "        plt.legend(prop = {'size':16})\n",
    "        \n",
    "    \n",
    "    elif type_vis == 'violin':\n",
    "        sns.violinplot(x = 'value', y = 'variable', data = melted, hue = 'variable',\n",
    "              bw=.1, scale=\"count\", scale_hue=False, inner = None)\n",
    "\n",
    "        plt.legend(prop = {'size': 16})\n",
    "        \n",
    "    else:\n",
    "        print(\"Not a valid visualization type argument, pick 'histogram', 'box', or 'violin'\")"
   ]
  },
  {
   "cell_type": "code",
   "execution_count": 14,
   "metadata": {
    "collapsed": false
   },
   "outputs": [],
   "source": [
    "from ipywidgets import interact"
   ]
  },
  {
   "cell_type": "code",
   "execution_count": 15,
   "metadata": {
    "collapsed": false
   },
   "outputs": [
    {
     "data": {
      "image/png": "[encoded data removed]",
      "text/plain": [
       "<matplotlib.figure.Figure at 0x117990f0>"
      ]
     },
     "metadata": {},
     "output_type": "display_data"
    }
   ],
   "source": [
    "'''Viewing interactive plots requires a connection to the ipython kernel and therefore use of the actual .ipynb vs\n",
    "this html export.  I selected a box plot for export but the notebook offers the choices in list below'''\n",
    "\n",
    "i1 = interact(vis_dist, type_vis = [\"histogram\", \"histogram/pdf\",\"box\", \"violin\"])"
   ]
  },
  {
   "cell_type": "markdown",
   "metadata": {
    "collapsed": true
   },
   "source": [
    "Each plot type tells a similiar story, the incongruent task times are of higher range than the congruent task times.  This is best viewed as a box plot, where we can see that the majority of the incongruent times are above the congruent IQR. Likewise, the majority of the congruent data is at or below the the first and second quartiles of the incongruent range.  It is also intersting to note that the there are two outliers in the incongruent task sample, with response times of ~ 35 minutes."
   ]
  },
  {
   "cell_type": "markdown",
   "metadata": {},
   "source": [
    "Let's also look at the distribution of the differences between the two samples."
   ]
  },
  {
   "cell_type": "code",
   "execution_count": 18,
   "metadata": {
    "collapsed": false
   },
   "outputs": [
    {
     "data": {
      "text/plain": [
       "<matplotlib.legend.Legend at 0x115fc9b0>"
      ]
     },
     "execution_count": 18,
     "metadata": {},
     "output_type": "execute_result"
    },
    {
     "data": {
      "image/png": "[encoded data removed]",
      "text/plain": [
       "<matplotlib.figure.Figure at 0x1186fef0>"
      ]
     },
     "metadata": {},
     "output_type": "display_data"
    }
   ],
   "source": [
    "sns.distplot(df.difference, rug = True, label= 'Differences')\n",
    "plt.legend(prop={'size':16})"
   ]
  },
  {
   "cell_type": "markdown",
   "metadata": {},
   "source": [
    "This does appear to \"approximate\" a normal distribution with no signifcant outliers."
   ]
  },
  {
   "cell_type": "raw",
   "metadata": {},
   "source": [
    "5. Now, perform the statistical test and report your results. What is your confidence level and your critical statistic value? Do you reject the null hypothesis or fail to reject it? Come to a conclusion in terms of the experiment task. Did the results match up with your expectations?"
   ]
  },
  {
   "cell_type": "markdown",
   "metadata": {},
   "source": [
    "- **Significance Level**: .05\n",
    "- **T Statistic**: -8.02\n",
    "- **P Value**: < .0001 # holy catfish!\n",
    "\n",
    "P is < alpha, therefore I reject the null hypothesis in favor of the alternative hypothesis.  There is a signficant difference in response time between the congruent and incongruent conditions.  Specifically, the incongruent response time is less than that of the congruent response time.  This result matched my expectations, both intuitively (the incongruent condition seems difficult) and from the visualizations of the sample distributions."
   ]
  },
  {
   "cell_type": "markdown",
   "metadata": {
    "collapsed": true
   },
   "source": [
    "### References\n",
    "\n",
    "- [Minitab Blog](http://blog.minitab.com/)\n",
    "- [SPSS Tutorials](https://statistics.laerd.com/spss-tutorials/dependent-t-test-using-spss-statistics.php)\n",
    "- Reviewer guidance"
   ]
  }
 ],
 "metadata": {
  "kernelspec": {
   "display_name": "Python 2",
   "language": "python",
   "name": "python2"
  },
  "language_info": {
   "codemirror_mode": {
    "name": "ipython",
    "version": 2
   },
   "file_extension": ".py",
   "mimetype": "text/x-python",
   "name": "python",
   "nbconvert_exporter": "python",
   "pygments_lexer": "ipython2",
   "version": "2.7.11"
  }
 },
 "nbformat": 4,
 "nbformat_minor": 0
}
